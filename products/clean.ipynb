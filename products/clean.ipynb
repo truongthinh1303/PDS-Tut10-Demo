{
 "cells": [
  {
   "cell_type": "code",
   "execution_count": 1,
   "id": "f848edbf",
   "metadata": {
    "execution": {
     "iopub.execute_input": "2023-01-05T04:05:48.001244Z",
     "iopub.status.busy": "2023-01-05T04:05:48.001244Z",
     "iopub.status.idle": "2023-01-05T04:05:48.031181Z",
     "shell.execute_reply": "2023-01-05T04:05:48.031181Z"
    },
    "lines_to_next_cell": 2,
    "papermill": {
     "duration": 0.054706,
     "end_time": "2023-01-05T04:05:48.035742",
     "exception": false,
     "start_time": "2023-01-05T04:05:47.981036",
     "status": "completed"
    },
    "tags": []
   },
   "outputs": [],
   "source": [
    "# Add description here\n",
    "#\n",
    "# *Note:* You can open this file as a notebook (JupyterLab: right-click on it in the side bar -> Open With -> Notebook)"
   ]
  },
  {
   "cell_type": "code",
   "execution_count": 2,
   "id": "b3fa1ee1",
   "metadata": {
    "execution": {
     "iopub.execute_input": "2023-01-05T04:05:48.050803Z",
     "iopub.status.busy": "2023-01-05T04:05:48.045796Z",
     "iopub.status.idle": "2023-01-05T04:05:48.066008Z",
     "shell.execute_reply": "2023-01-05T04:05:48.066008Z"
    },
    "papermill": {
     "duration": 0.029237,
     "end_time": "2023-01-05T04:05:48.066008",
     "exception": false,
     "start_time": "2023-01-05T04:05:48.036771",
     "status": "completed"
    },
    "tags": []
   },
   "outputs": [],
   "source": [
    "# Uncomment the next two lines to enable auto reloading for imported modules\n",
    "# %load_ext autoreload\n",
    "# %autoreload 2\n",
    "# For more info, see:\n",
    "# https://docs.ploomber.io/en/latest/user-guide/faq_index.html#auto-reloading-code-in-jupyter"
   ]
  },
  {
   "cell_type": "code",
   "execution_count": 3,
   "id": "c5854d11",
   "metadata": {
    "execution": {
     "iopub.execute_input": "2023-01-05T04:05:48.076080Z",
     "iopub.status.busy": "2023-01-05T04:05:48.076080Z",
     "iopub.status.idle": "2023-01-05T04:05:48.086183Z",
     "shell.execute_reply": "2023-01-05T04:05:48.086183Z"
    },
    "lines_to_next_cell": 2,
    "papermill": {
     "duration": 0.015167,
     "end_time": "2023-01-05T04:05:48.086183",
     "exception": false,
     "start_time": "2023-01-05T04:05:48.071016",
     "status": "completed"
    },
    "tags": [
     "parameters"
    ]
   },
   "outputs": [],
   "source": [
    "# If this task has dependencies, list them them here\n",
    "# (e.g. upstream = ['some_task']), otherwise leave as None.\n",
    "upstream = ['get']\n",
    "\n",
    "# This is a placeholder, leave it as None\n",
    "product = None"
   ]
  },
  {
   "cell_type": "code",
   "execution_count": 4,
   "id": "e9a85755",
   "metadata": {
    "execution": {
     "iopub.execute_input": "2023-01-05T04:05:48.096082Z",
     "iopub.status.busy": "2023-01-05T04:05:48.096082Z",
     "iopub.status.idle": "2023-01-05T04:05:48.106095Z",
     "shell.execute_reply": "2023-01-05T04:05:48.106095Z"
    },
    "papermill": {
     "duration": 0.019912,
     "end_time": "2023-01-05T04:05:48.106095",
     "exception": false,
     "start_time": "2023-01-05T04:05:48.086183",
     "status": "completed"
    },
    "tags": [
     "injected-parameters"
    ]
   },
   "outputs": [],
   "source": [
    "# Parameters\n",
    "upstream = {\"get\": {\"nb\": \"C:\\\\Users\\\\thihh\\\\MLpipeline\\\\demo\\\\products\\\\get.ipynb\", \"data\": \"C:\\\\Users\\\\thihh\\\\MLpipeline\\\\demo\\\\products\\\\raw.csv\"}}\n",
    "product = {\"nb\": \"C:\\\\Users\\\\thihh\\\\MLpipeline\\\\demo\\\\products\\\\clean.ipynb\", \"data\": \"C:\\\\Users\\\\thihh\\\\MLpipeline\\\\demo\\\\products\\\\clean.csv\"}\n"
   ]
  },
  {
   "cell_type": "code",
   "execution_count": 5,
   "id": "76d46cc8",
   "metadata": {
    "execution": {
     "iopub.execute_input": "2023-01-05T04:05:48.115939Z",
     "iopub.status.busy": "2023-01-05T04:05:48.115939Z",
     "iopub.status.idle": "2023-01-05T04:05:48.656129Z",
     "shell.execute_reply": "2023-01-05T04:05:48.656129Z"
    },
    "papermill": {
     "duration": 0.550034,
     "end_time": "2023-01-05T04:05:48.656129",
     "exception": false,
     "start_time": "2023-01-05T04:05:48.106095",
     "status": "completed"
    },
    "tags": []
   },
   "outputs": [],
   "source": [
    "import pandas as pd"
   ]
  },
  {
   "cell_type": "code",
   "execution_count": 6,
   "id": "75cb869e",
   "metadata": {
    "execution": {
     "iopub.execute_input": "2023-01-05T04:05:48.675759Z",
     "iopub.status.busy": "2023-01-05T04:05:48.675759Z",
     "iopub.status.idle": "2023-01-05T04:05:48.737862Z",
     "shell.execute_reply": "2023-01-05T04:05:48.736085Z"
    },
    "papermill": {
     "duration": 0.072134,
     "end_time": "2023-01-05T04:05:48.737862",
     "exception": false,
     "start_time": "2023-01-05T04:05:48.665728",
     "status": "completed"
    },
    "tags": []
   },
   "outputs": [],
   "source": [
    "df = pd.read_csv(upstream['get']['data'])"
   ]
  },
  {
   "cell_type": "markdown",
   "id": "ec1cd31e",
   "metadata": {
    "papermill": {
     "duration": 0.005041,
     "end_time": "2023-01-05T04:05:48.750961",
     "exception": false,
     "start_time": "2023-01-05T04:05:48.745920",
     "status": "completed"
    },
    "tags": []
   },
   "source": [
    "## Producing dummy variables for categorical data and cleaning data"
   ]
  },
  {
   "cell_type": "code",
   "execution_count": 7,
   "id": "75b0fb99",
   "metadata": {
    "execution": {
     "iopub.execute_input": "2023-01-05T04:05:48.756044Z",
     "iopub.status.busy": "2023-01-05T04:05:48.756044Z",
     "iopub.status.idle": "2023-01-05T04:05:48.776285Z",
     "shell.execute_reply": "2023-01-05T04:05:48.776285Z"
    },
    "papermill": {
     "duration": 0.025324,
     "end_time": "2023-01-05T04:05:48.776285",
     "exception": false,
     "start_time": "2023-01-05T04:05:48.750961",
     "status": "completed"
    },
    "tags": []
   },
   "outputs": [],
   "source": [
    "dummiesdf = pd.get_dummies(df['VisitorType'])\n",
    "df.drop('VisitorType', inplace = True, axis = 1)\n",
    "df['New_Visitor'] = dummiesdf['New_Visitor']\n",
    "df['Other'] = dummiesdf['Other']\n",
    "df['Returning_Visitor'] = dummiesdf['Returning_Visitor']"
   ]
  },
  {
   "cell_type": "code",
   "execution_count": 8,
   "id": "8f27ef26",
   "metadata": {
    "execution": {
     "iopub.execute_input": "2023-01-05T04:05:48.785733Z",
     "iopub.status.busy": "2023-01-05T04:05:48.785733Z",
     "iopub.status.idle": "2023-01-05T04:05:48.816211Z",
     "shell.execute_reply": "2023-01-05T04:05:48.816211Z"
    },
    "papermill": {
     "duration": 0.030478,
     "end_time": "2023-01-05T04:05:48.816211",
     "exception": false,
     "start_time": "2023-01-05T04:05:48.785733",
     "status": "completed"
    },
    "tags": []
   },
   "outputs": [],
   "source": [
    "dfmonth = pd.get_dummies(df['Month']) \n",
    "df.drop('Month', inplace = True, axis = 1)\n",
    "dfwithdummies = pd.concat([df, dfmonth], axis = 1, sort = False)"
   ]
  },
  {
   "cell_type": "code",
   "execution_count": 9,
   "id": "cf148132",
   "metadata": {
    "execution": {
     "iopub.execute_input": "2023-01-05T04:05:48.826131Z",
     "iopub.status.busy": "2023-01-05T04:05:48.826131Z",
     "iopub.status.idle": "2023-01-05T04:05:48.856183Z",
     "shell.execute_reply": "2023-01-05T04:05:48.856183Z"
    },
    "papermill": {
     "duration": 0.039972,
     "end_time": "2023-01-05T04:05:48.856183",
     "exception": false,
     "start_time": "2023-01-05T04:05:48.816211",
     "status": "completed"
    },
    "tags": []
   },
   "outputs": [],
   "source": [
    "dfwithdummies['Class'] = df['Revenue'].astype(int)\n",
    "dfwithdummies.drop('Revenue', axis = 1, inplace = True)\n",
    "dfwithdummies['Weekend'] = df['Weekend'].astype(int)\n",
    "dfwithdummies.drop('Returning_Visitor', axis = 1, inplace = True)\n",
    "dfcleaned = dfwithdummies.copy()"
   ]
  },
  {
   "cell_type": "markdown",
   "id": "b59535e4",
   "metadata": {
    "papermill": {
     "duration": 0.0,
     "end_time": "2023-01-05T04:05:48.856183",
     "exception": false,
     "start_time": "2023-01-05T04:05:48.856183",
     "status": "completed"
    },
    "tags": []
   },
   "source": [
    "---"
   ]
  },
  {
   "cell_type": "code",
   "execution_count": 10,
   "id": "53a0ecb7",
   "metadata": {
    "execution": {
     "iopub.execute_input": "2023-01-05T04:05:48.870951Z",
     "iopub.status.busy": "2023-01-05T04:05:48.870951Z",
     "iopub.status.idle": "2023-01-05T04:05:48.966166Z",
     "shell.execute_reply": "2023-01-05T04:05:48.966166Z"
    },
    "papermill": {
     "duration": 0.10022,
     "end_time": "2023-01-05T04:05:48.966166",
     "exception": false,
     "start_time": "2023-01-05T04:05:48.865946",
     "status": "completed"
    },
    "tags": []
   },
   "outputs": [],
   "source": [
    "dfcleaned.to_csv(product['data'], index=False)"
   ]
  }
 ],
 "metadata": {
  "jupytext": {
   "text_representation": {
    "extension": ".py",
    "format_name": "percent",
    "format_version": "1.3",
    "jupytext_version": "1.14.4"
   }
  },
  "kernelspec": {
   "display_name": "Python 3 (ipykernel)",
   "language": "python",
   "name": "python3"
  },
  "language_info": {
   "codemirror_mode": {
    "name": "ipython",
    "version": 3
   },
   "file_extension": ".py",
   "mimetype": "text/x-python",
   "name": "python",
   "nbconvert_exporter": "python",
   "pygments_lexer": "ipython3",
   "version": "3.7.15"
  },
  "papermill": {
   "duration": 3.230471,
   "end_time": "2023-01-05T04:05:49.206406",
   "exception": null,
   "input_path": "C:\\Users\\thihh\\AppData\\Local\\Temp\\tmpnffrkau_.ipynb",
   "output_path": "C:\\Users\\thihh\\MLpipeline\\demo\\products\\clean.ipynb",
   "parameters": {
    "product": {
     "data": "C:\\Users\\thihh\\MLpipeline\\demo\\products\\clean.csv",
     "nb": "C:\\Users\\thihh\\MLpipeline\\demo\\products\\clean.ipynb"
    },
    "upstream": {
     "get": {
      "data": "C:\\Users\\thihh\\MLpipeline\\demo\\products\\raw.csv",
      "nb": "C:\\Users\\thihh\\MLpipeline\\demo\\products\\get.ipynb"
     }
    }
   },
   "start_time": "2023-01-05T04:05:45.975935"
  }
 },
 "nbformat": 4,
 "nbformat_minor": 5
}