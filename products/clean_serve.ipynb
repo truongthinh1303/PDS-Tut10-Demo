{
 "cells": [
  {
   "cell_type": "code",
   "execution_count": 1,
   "id": "ff8060e6",
   "metadata": {
    "execution": {
     "iopub.execute_input": "2023-01-05T04:06:49.865862Z",
     "iopub.status.busy": "2023-01-05T04:06:49.865862Z",
     "iopub.status.idle": "2023-01-05T04:06:49.896131Z",
     "shell.execute_reply": "2023-01-05T04:06:49.896131Z"
    },
    "lines_to_next_cell": 2,
    "papermill": {
     "duration": 0.040011,
     "end_time": "2023-01-05T04:06:49.896131",
     "exception": false,
     "start_time": "2023-01-05T04:06:49.856120",
     "status": "completed"
    },
    "tags": []
   },
   "outputs": [],
   "source": [
    "# Add description here\n",
    "#\n",
    "# *Note:* You can open this file as a notebook (JupyterLab: right-click on it in the side bar -> Open With -> Notebook)"
   ]
  },
  {
   "cell_type": "code",
   "execution_count": 2,
   "id": "dfe1b64b",
   "metadata": {
    "execution": {
     "iopub.execute_input": "2023-01-05T04:06:49.915707Z",
     "iopub.status.busy": "2023-01-05T04:06:49.915707Z",
     "iopub.status.idle": "2023-01-05T04:06:49.935657Z",
     "shell.execute_reply": "2023-01-05T04:06:49.935657Z"
    },
    "papermill": {
     "duration": 0.029689,
     "end_time": "2023-01-05T04:06:49.935657",
     "exception": false,
     "start_time": "2023-01-05T04:06:49.905968",
     "status": "completed"
    },
    "tags": []
   },
   "outputs": [],
   "source": [
    "# Uncomment the next two lines to enable auto reloading for imported modules\n",
    "# %load_ext autoreload\n",
    "# %autoreload 2\n",
    "# For more info, see:\n",
    "# https://docs.ploomber.io/en/latest/user-guide/faq_index.html#auto-reloading-code-in-jupyter"
   ]
  },
  {
   "cell_type": "code",
   "execution_count": 3,
   "id": "b6ce0c51",
   "metadata": {
    "execution": {
     "iopub.execute_input": "2023-01-05T04:06:49.945908Z",
     "iopub.status.busy": "2023-01-05T04:06:49.945908Z",
     "iopub.status.idle": "2023-01-05T04:06:49.975809Z",
     "shell.execute_reply": "2023-01-05T04:06:49.975809Z"
    },
    "lines_to_next_cell": 2,
    "papermill": {
     "duration": 0.038486,
     "end_time": "2023-01-05T04:06:49.980819",
     "exception": false,
     "start_time": "2023-01-05T04:06:49.942333",
     "status": "completed"
    },
    "tags": [
     "parameters"
    ]
   },
   "outputs": [],
   "source": [
    "# If this task has dependencies, list them them here\n",
    "# (e.g. upstream = ['some_task']), otherwise leave as None.\n",
    "upstream = ['get']\n",
    "\n",
    "# This is a placeholder, leave it as None\n",
    "product = None"
   ]
  },
  {
   "cell_type": "code",
   "execution_count": 4,
   "id": "53beb2b2",
   "metadata": {
    "execution": {
     "iopub.execute_input": "2023-01-05T04:06:49.985843Z",
     "iopub.status.busy": "2023-01-05T04:06:49.985843Z",
     "iopub.status.idle": "2023-01-05T04:06:49.995863Z",
     "shell.execute_reply": "2023-01-05T04:06:49.995863Z"
    },
    "papermill": {
     "duration": 0.015044,
     "end_time": "2023-01-05T04:06:49.995863",
     "exception": false,
     "start_time": "2023-01-05T04:06:49.980819",
     "status": "completed"
    },
    "tags": [
     "injected-parameters"
    ]
   },
   "outputs": [],
   "source": [
    "# Parameters\n",
    "upstream = {\"get\": {\"nb\": \"C:\\\\Users\\\\thihh\\\\MLpipeline\\\\demo\\\\products\\\\new.ipynb\", \"data\": \"C:\\\\Users\\\\thihh\\\\MLpipeline\\\\demo\\\\products\\\\new.csv\"}}\n",
    "product = {\"nb\": \"C:\\\\Users\\\\thihh\\\\MLpipeline\\\\demo\\\\products\\\\clean_serve.ipynb\", \"data\": \"C:\\\\Users\\\\thihh\\\\MLpipeline\\\\demo\\\\products\\\\clean_serve.csv\"}\n"
   ]
  },
  {
   "cell_type": "code",
   "execution_count": 5,
   "id": "8f5c8a56",
   "metadata": {
    "execution": {
     "iopub.execute_input": "2023-01-05T04:06:50.006104Z",
     "iopub.status.busy": "2023-01-05T04:06:50.006104Z",
     "iopub.status.idle": "2023-01-05T04:06:50.496017Z",
     "shell.execute_reply": "2023-01-05T04:06:50.496017Z"
    },
    "papermill": {
     "duration": 0.500154,
     "end_time": "2023-01-05T04:06:50.496017",
     "exception": false,
     "start_time": "2023-01-05T04:06:49.995863",
     "status": "completed"
    },
    "tags": []
   },
   "outputs": [],
   "source": [
    "import pandas as pd"
   ]
  },
  {
   "cell_type": "code",
   "execution_count": 6,
   "id": "d2ab70bc",
   "metadata": {
    "execution": {
     "iopub.execute_input": "2023-01-05T04:06:50.506047Z",
     "iopub.status.busy": "2023-01-05T04:06:50.506047Z",
     "iopub.status.idle": "2023-01-05T04:06:50.555706Z",
     "shell.execute_reply": "2023-01-05T04:06:50.555706Z"
    },
    "papermill": {
     "duration": 0.054684,
     "end_time": "2023-01-05T04:06:50.555706",
     "exception": false,
     "start_time": "2023-01-05T04:06:50.501022",
     "status": "completed"
    },
    "tags": []
   },
   "outputs": [],
   "source": [
    "df = pd.read_csv(upstream['get']['data'])"
   ]
  },
  {
   "cell_type": "markdown",
   "id": "6ea0e820",
   "metadata": {
    "papermill": {
     "duration": 0.0,
     "end_time": "2023-01-05T04:06:50.560713",
     "exception": false,
     "start_time": "2023-01-05T04:06:50.560713",
     "status": "completed"
    },
    "tags": []
   },
   "source": [
    "## Producing dummy variables for categorical data and cleaning data"
   ]
  },
  {
   "cell_type": "code",
   "execution_count": 7,
   "id": "43049cce",
   "metadata": {
    "execution": {
     "iopub.execute_input": "2023-01-05T04:06:50.565727Z",
     "iopub.status.busy": "2023-01-05T04:06:50.565727Z",
     "iopub.status.idle": "2023-01-05T04:06:50.591089Z",
     "shell.execute_reply": "2023-01-05T04:06:50.591089Z"
    },
    "papermill": {
     "duration": 0.025362,
     "end_time": "2023-01-05T04:06:50.591089",
     "exception": false,
     "start_time": "2023-01-05T04:06:50.565727",
     "status": "completed"
    },
    "tags": []
   },
   "outputs": [],
   "source": [
    "dummiesdf = pd.get_dummies(df['VisitorType'])\n",
    "df.drop('VisitorType', inplace = True, axis = 1)\n",
    "df['New_Visitor'] = dummiesdf['New_Visitor']\n",
    "df['Other'] = dummiesdf['Other']\n",
    "df['Returning_Visitor'] = dummiesdf['Returning_Visitor']"
   ]
  },
  {
   "cell_type": "code",
   "execution_count": 8,
   "id": "019e2d81",
   "metadata": {
    "execution": {
     "iopub.execute_input": "2023-01-05T04:06:50.595628Z",
     "iopub.status.busy": "2023-01-05T04:06:50.595628Z",
     "iopub.status.idle": "2023-01-05T04:06:50.615997Z",
     "shell.execute_reply": "2023-01-05T04:06:50.615997Z"
    },
    "papermill": {
     "duration": 0.020369,
     "end_time": "2023-01-05T04:06:50.615997",
     "exception": false,
     "start_time": "2023-01-05T04:06:50.595628",
     "status": "completed"
    },
    "tags": []
   },
   "outputs": [],
   "source": [
    "dfmonth = pd.get_dummies(df['Month']) \n",
    "df.drop('Month', inplace = True, axis = 1)\n",
    "dfwithdummies = pd.concat([df, dfmonth], axis = 1, sort = False)"
   ]
  },
  {
   "cell_type": "code",
   "execution_count": 9,
   "id": "67f2edc2",
   "metadata": {
    "execution": {
     "iopub.execute_input": "2023-01-05T04:06:50.626069Z",
     "iopub.status.busy": "2023-01-05T04:06:50.626069Z",
     "iopub.status.idle": "2023-01-05T04:06:50.650990Z",
     "shell.execute_reply": "2023-01-05T04:06:50.650990Z"
    },
    "papermill": {
     "duration": 0.024921,
     "end_time": "2023-01-05T04:06:50.650990",
     "exception": false,
     "start_time": "2023-01-05T04:06:50.626069",
     "status": "completed"
    },
    "tags": []
   },
   "outputs": [],
   "source": [
    "dfwithdummies['Class'] = df['Revenue'].astype(int)\n",
    "dfwithdummies.drop('Revenue', axis = 1, inplace = True)\n",
    "dfwithdummies['Weekend'] = df['Weekend'].astype(int)\n",
    "dfwithdummies.drop('Returning_Visitor', axis = 1, inplace = True)\n",
    "dfcleaned = dfwithdummies.copy()"
   ]
  },
  {
   "cell_type": "markdown",
   "id": "6a374e55",
   "metadata": {
    "papermill": {
     "duration": 0.00502,
     "end_time": "2023-01-05T04:06:50.661054",
     "exception": false,
     "start_time": "2023-01-05T04:06:50.656034",
     "status": "completed"
    },
    "tags": []
   },
   "source": [
    "---"
   ]
  },
  {
   "cell_type": "code",
   "execution_count": 10,
   "id": "ec87592b",
   "metadata": {
    "execution": {
     "iopub.execute_input": "2023-01-05T04:06:50.666087Z",
     "iopub.status.busy": "2023-01-05T04:06:50.666087Z",
     "iopub.status.idle": "2023-01-05T04:06:50.776091Z",
     "shell.execute_reply": "2023-01-05T04:06:50.776091Z"
    },
    "papermill": {
     "duration": 0.124917,
     "end_time": "2023-01-05T04:06:50.785971",
     "exception": false,
     "start_time": "2023-01-05T04:06:50.661054",
     "status": "completed"
    },
    "tags": []
   },
   "outputs": [],
   "source": [
    "dfcleaned.to_csv(product['data'], index=False)"
   ]
  }
 ],
 "metadata": {
  "jupytext": {
   "text_representation": {
    "extension": ".py",
    "format_name": "percent",
    "format_version": "1.3",
    "jupytext_version": "1.14.4"
   }
  },
  "kernelspec": {
   "display_name": "Python 3 (ipykernel)",
   "language": "python",
   "name": "python3"
  },
  "language_info": {
   "codemirror_mode": {
    "name": "ipython",
    "version": 3
   },
   "file_extension": ".py",
   "mimetype": "text/x-python",
   "name": "python",
   "nbconvert_exporter": "python",
   "pygments_lexer": "ipython3",
   "version": "3.7.15"
  },
  "papermill": {
   "duration": 2.995129,
   "end_time": "2023-01-05T04:06:51.036025",
   "exception": null,
   "input_path": "C:\\Users\\thihh\\AppData\\Local\\Temp\\tmpb60q2dev.ipynb",
   "output_path": "C:\\Users\\thihh\\MLpipeline\\demo\\products\\clean_serve.ipynb",
   "parameters": {
    "product": {
     "data": "C:\\Users\\thihh\\MLpipeline\\demo\\products\\clean_serve.csv",
     "nb": "C:\\Users\\thihh\\MLpipeline\\demo\\products\\clean_serve.ipynb"
    },
    "upstream": {
     "get": {
      "data": "C:\\Users\\thihh\\MLpipeline\\demo\\products\\new.csv",
      "nb": "C:\\Users\\thihh\\MLpipeline\\demo\\products\\new.ipynb"
     }
    }
   },
   "start_time": "2023-01-05T04:06:48.040896"
  }
 },
 "nbformat": 4,
 "nbformat_minor": 5
}