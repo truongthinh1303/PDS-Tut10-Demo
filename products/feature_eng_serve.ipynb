{
 "cells": [
  {
   "cell_type": "code",
   "execution_count": 1,
   "id": "b24c4005",
   "metadata": {
    "execution": {
     "iopub.execute_input": "2023-01-05T04:07:03.605799Z",
     "iopub.status.busy": "2023-01-05T04:07:03.605799Z",
     "iopub.status.idle": "2023-01-05T04:07:03.620905Z",
     "shell.execute_reply": "2023-01-05T04:07:03.620905Z"
    },
    "lines_to_next_cell": 2,
    "papermill": {
     "duration": 0.015106,
     "end_time": "2023-01-05T04:07:03.620905",
     "exception": false,
     "start_time": "2023-01-05T04:07:03.605799",
     "status": "completed"
    },
    "tags": []
   },
   "outputs": [],
   "source": [
    "# Add description here\n",
    "#\n",
    "# *Note:* You can open this file as a notebook (JupyterLab: right-click on it in the side bar -> Open With -> Notebook)"
   ]
  },
  {
   "cell_type": "code",
   "execution_count": 2,
   "id": "b058ca8a",
   "metadata": {
    "execution": {
     "iopub.execute_input": "2023-01-05T04:07:03.625957Z",
     "iopub.status.busy": "2023-01-05T04:07:03.625957Z",
     "iopub.status.idle": "2023-01-05T04:07:03.640953Z",
     "shell.execute_reply": "2023-01-05T04:07:03.640953Z"
    },
    "papermill": {
     "duration": 0.014996,
     "end_time": "2023-01-05T04:07:03.640953",
     "exception": false,
     "start_time": "2023-01-05T04:07:03.625957",
     "status": "completed"
    },
    "tags": []
   },
   "outputs": [],
   "source": [
    "# Uncomment the next two lines to enable auto reloading for imported modules\n",
    "# %load_ext autoreload\n",
    "# %autoreload 2\n",
    "# For more info, see:\n",
    "# https://docs.ploomber.io/en/latest/user-guide/faq_index.html#auto-reloading-code-in-jupyter"
   ]
  },
  {
   "cell_type": "code",
   "execution_count": 3,
   "id": "0779d005",
   "metadata": {
    "execution": {
     "iopub.execute_input": "2023-01-05T04:07:03.645996Z",
     "iopub.status.busy": "2023-01-05T04:07:03.645996Z",
     "iopub.status.idle": "2023-01-05T04:07:03.656097Z",
     "shell.execute_reply": "2023-01-05T04:07:03.656097Z"
    },
    "lines_to_next_cell": 2,
    "papermill": {
     "duration": 0.015144,
     "end_time": "2023-01-05T04:07:03.656097",
     "exception": false,
     "start_time": "2023-01-05T04:07:03.640953",
     "status": "completed"
    },
    "tags": [
     "parameters"
    ]
   },
   "outputs": [],
   "source": [
    "# If this task has dependencies, list them them here\n",
    "# (e.g. upstream = ['some_task']), otherwise leave as None.\n",
    "upstream = ['clean', 'preprocess']\n",
    "\n",
    "# This is a placeholder, leave it as None\n",
    "product = None"
   ]
  },
  {
   "cell_type": "code",
   "execution_count": 4,
   "id": "1efae7cf",
   "metadata": {
    "execution": {
     "iopub.execute_input": "2023-01-05T04:07:03.665644Z",
     "iopub.status.busy": "2023-01-05T04:07:03.665644Z",
     "iopub.status.idle": "2023-01-05T04:07:03.676237Z",
     "shell.execute_reply": "2023-01-05T04:07:03.676237Z"
    },
    "papermill": {
     "duration": 0.015132,
     "end_time": "2023-01-05T04:07:03.676237",
     "exception": false,
     "start_time": "2023-01-05T04:07:03.661105",
     "status": "completed"
    },
    "tags": [
     "injected-parameters"
    ]
   },
   "outputs": [],
   "source": [
    "# Parameters\n",
    "upstream = {\"clean\": {\"nb\": \"C:\\\\Users\\\\thihh\\\\MLpipeline\\\\demo\\\\products\\\\clean_serve.ipynb\", \"data\": \"C:\\\\Users\\\\thihh\\\\MLpipeline\\\\demo\\\\products\\\\clean_serve.csv\"}, \"preprocess\": {\"nb\": \"C:\\\\Users\\\\thihh\\\\MLpipeline\\\\demo\\\\products\\\\preprocess_serve.ipynb\", \"data\": \"C:\\\\Users\\\\thihh\\\\MLpipeline\\\\demo\\\\products\\\\preprocess_serve.csv\"}}\n",
    "product = {\"nb\": \"C:\\\\Users\\\\thihh\\\\MLpipeline\\\\demo\\\\products\\\\feature_eng_serve.ipynb\", \"data\": \"C:\\\\Users\\\\thihh\\\\MLpipeline\\\\demo\\\\products\\\\feature_eng_serve.csv\"}\n"
   ]
  },
  {
   "cell_type": "code",
   "execution_count": 5,
   "id": "3f83e6d3",
   "metadata": {
    "execution": {
     "iopub.execute_input": "2023-01-05T04:07:03.685795Z",
     "iopub.status.busy": "2023-01-05T04:07:03.685795Z",
     "iopub.status.idle": "2023-01-05T04:07:04.906150Z",
     "shell.execute_reply": "2023-01-05T04:07:04.906150Z"
    },
    "papermill": {
     "duration": 1.229913,
     "end_time": "2023-01-05T04:07:04.906150",
     "exception": false,
     "start_time": "2023-01-05T04:07:03.676237",
     "status": "completed"
    },
    "tags": []
   },
   "outputs": [],
   "source": [
    "import pandas as pd\n",
    "# from sklearn import svm\n",
    "from sklearn.feature_selection import SelectKBest\n",
    "from sklearn.feature_selection import chi2\n",
    "# from sklearn.model_selection import train_test_split"
   ]
  },
  {
   "cell_type": "code",
   "execution_count": 6,
   "id": "112aa96e",
   "metadata": {
    "execution": {
     "iopub.execute_input": "2023-01-05T04:07:04.930715Z",
     "iopub.status.busy": "2023-01-05T04:07:04.925702Z",
     "iopub.status.idle": "2023-01-05T04:07:05.015796Z",
     "shell.execute_reply": "2023-01-05T04:07:05.014212Z"
    },
    "papermill": {
     "duration": 0.105092,
     "end_time": "2023-01-05T04:07:05.020808",
     "exception": false,
     "start_time": "2023-01-05T04:07:04.915716",
     "status": "completed"
    },
    "tags": []
   },
   "outputs": [],
   "source": [
    "dfcleaned = pd.read_csv(upstream['clean']['data'])\n",
    "dfpreprocess = pd.read_csv(upstream['preprocess']['data'])\n",
    "\n",
    "X = dfcleaned.drop('Class', axis = 1)\n",
    "X_rc = dfpreprocess.drop('Class', axis = 1)\n",
    "Y = dfpreprocess['Class'].copy()"
   ]
  },
  {
   "cell_type": "markdown",
   "id": "b97454ce",
   "metadata": {
    "papermill": {
     "duration": 0.0,
     "end_time": "2023-01-05T04:07:05.025950",
     "exception": false,
     "start_time": "2023-01-05T04:07:05.025950",
     "status": "completed"
    },
    "tags": []
   },
   "source": [
    "## Finding Important Features then Removing from Dataframe"
   ]
  },
  {
   "cell_type": "code",
   "execution_count": 7,
   "id": "b243a910",
   "metadata": {
    "execution": {
     "iopub.execute_input": "2023-01-05T04:07:05.035809Z",
     "iopub.status.busy": "2023-01-05T04:07:05.035809Z",
     "iopub.status.idle": "2023-01-05T04:07:05.075866Z",
     "shell.execute_reply": "2023-01-05T04:07:05.075866Z"
    },
    "papermill": {
     "duration": 0.040057,
     "end_time": "2023-01-05T04:07:05.075866",
     "exception": false,
     "start_time": "2023-01-05T04:07:05.035809",
     "status": "completed"
    },
    "tags": []
   },
   "outputs": [
    {
     "data": {
      "text/html": [
       "<div>\n",
       "<style scoped>\n",
       "    .dataframe tbody tr th:only-of-type {\n",
       "        vertical-align: middle;\n",
       "    }\n",
       "\n",
       "    .dataframe tbody tr th {\n",
       "        vertical-align: top;\n",
       "    }\n",
       "\n",
       "    .dataframe thead th {\n",
       "        text-align: right;\n",
       "    }\n",
       "</style>\n",
       "<table border=\"1\" class=\"dataframe\">\n",
       "  <thead>\n",
       "    <tr style=\"text-align: right;\">\n",
       "      <th></th>\n",
       "      <th>0</th>\n",
       "      <th>1</th>\n",
       "    </tr>\n",
       "  </thead>\n",
       "  <tbody>\n",
       "    <tr>\n",
       "      <th>5</th>\n",
       "      <td>877404.339414</td>\n",
       "      <td>ProductRelated_Duration</td>\n",
       "    </tr>\n",
       "    <tr>\n",
       "      <th>8</th>\n",
       "      <td>175126.808512</td>\n",
       "      <td>PageValues</td>\n",
       "    </tr>\n",
       "    <tr>\n",
       "      <th>1</th>\n",
       "      <td>41754.836841</td>\n",
       "      <td>Administrative_Duration</td>\n",
       "    </tr>\n",
       "    <tr>\n",
       "      <th>3</th>\n",
       "      <td>35059.775770</td>\n",
       "      <td>Informational_Duration</td>\n",
       "    </tr>\n",
       "    <tr>\n",
       "      <th>4</th>\n",
       "      <td>19317.285376</td>\n",
       "      <td>ProductRelated</td>\n",
       "    </tr>\n",
       "    <tr>\n",
       "      <th>0</th>\n",
       "      <td>1133.965531</td>\n",
       "      <td>Administrative</td>\n",
       "    </tr>\n",
       "    <tr>\n",
       "      <th>2</th>\n",
       "      <td>357.981605</td>\n",
       "      <td>Informational</td>\n",
       "    </tr>\n",
       "    <tr>\n",
       "      <th>24</th>\n",
       "      <td>223.548231</td>\n",
       "      <td>Nov</td>\n",
       "    </tr>\n",
       "    <tr>\n",
       "      <th>15</th>\n",
       "      <td>115.339482</td>\n",
       "      <td>New_Visitor</td>\n",
       "    </tr>\n",
       "    <tr>\n",
       "      <th>23</th>\n",
       "      <td>54.997108</td>\n",
       "      <td>May</td>\n",
       "    </tr>\n",
       "    <tr>\n",
       "      <th>9</th>\n",
       "      <td>53.797094</td>\n",
       "      <td>SpecialDay</td>\n",
       "    </tr>\n",
       "    <tr>\n",
       "      <th>22</th>\n",
       "      <td>42.613274</td>\n",
       "      <td>Mar</td>\n",
       "    </tr>\n",
       "    <tr>\n",
       "      <th>6</th>\n",
       "      <td>29.654336</td>\n",
       "      <td>BounceRates</td>\n",
       "    </tr>\n",
       "    <tr>\n",
       "      <th>7</th>\n",
       "      <td>28.985072</td>\n",
       "      <td>ExitRates</td>\n",
       "    </tr>\n",
       "    <tr>\n",
       "      <th>19</th>\n",
       "      <td>26.961176</td>\n",
       "      <td>Feb</td>\n",
       "    </tr>\n",
       "    <tr>\n",
       "      <th>25</th>\n",
       "      <td>12.571184</td>\n",
       "      <td>Oct</td>\n",
       "    </tr>\n",
       "    <tr>\n",
       "      <th>18</th>\n",
       "      <td>11.624839</td>\n",
       "      <td>Dec</td>\n",
       "    </tr>\n",
       "    <tr>\n",
       "      <th>11</th>\n",
       "      <td>8.873291</td>\n",
       "      <td>Browser</td>\n",
       "    </tr>\n",
       "    <tr>\n",
       "      <th>14</th>\n",
       "      <td>8.120464</td>\n",
       "      <td>Weekend</td>\n",
       "    </tr>\n",
       "    <tr>\n",
       "      <th>21</th>\n",
       "      <td>6.432531</td>\n",
       "      <td>June</td>\n",
       "    </tr>\n",
       "    <tr>\n",
       "      <th>26</th>\n",
       "      <td>4.744843</td>\n",
       "      <td>Sep</td>\n",
       "    </tr>\n",
       "    <tr>\n",
       "      <th>12</th>\n",
       "      <td>3.037565</td>\n",
       "      <td>Region</td>\n",
       "    </tr>\n",
       "    <tr>\n",
       "      <th>17</th>\n",
       "      <td>1.428799</td>\n",
       "      <td>Aug</td>\n",
       "    </tr>\n",
       "    <tr>\n",
       "      <th>13</th>\n",
       "      <td>1.283194</td>\n",
       "      <td>TrafficType</td>\n",
       "    </tr>\n",
       "    <tr>\n",
       "      <th>10</th>\n",
       "      <td>1.037132</td>\n",
       "      <td>OperatingSystems</td>\n",
       "    </tr>\n",
       "    <tr>\n",
       "      <th>16</th>\n",
       "      <td>0.728897</td>\n",
       "      <td>Other</td>\n",
       "    </tr>\n",
       "    <tr>\n",
       "      <th>20</th>\n",
       "      <td>0.012775</td>\n",
       "      <td>Jul</td>\n",
       "    </tr>\n",
       "  </tbody>\n",
       "</table>\n",
       "</div>"
      ],
      "text/plain": [
       "                0                        1\n",
       "5   877404.339414  ProductRelated_Duration\n",
       "8   175126.808512               PageValues\n",
       "1    41754.836841  Administrative_Duration\n",
       "3    35059.775770   Informational_Duration\n",
       "4    19317.285376           ProductRelated\n",
       "0     1133.965531           Administrative\n",
       "2      357.981605            Informational\n",
       "24     223.548231                      Nov\n",
       "15     115.339482              New_Visitor\n",
       "23      54.997108                      May\n",
       "9       53.797094               SpecialDay\n",
       "22      42.613274                      Mar\n",
       "6       29.654336              BounceRates\n",
       "7       28.985072                ExitRates\n",
       "19      26.961176                      Feb\n",
       "25      12.571184                      Oct\n",
       "18      11.624839                      Dec\n",
       "11       8.873291                  Browser\n",
       "14       8.120464                  Weekend\n",
       "21       6.432531                     June\n",
       "26       4.744843                      Sep\n",
       "12       3.037565                   Region\n",
       "17       1.428799                      Aug\n",
       "13       1.283194              TrafficType\n",
       "10       1.037132         OperatingSystems\n",
       "16       0.728897                    Other\n",
       "20       0.012775                      Jul"
      ]
     },
     "execution_count": 7,
     "metadata": {},
     "output_type": "execute_result"
    }
   ],
   "source": [
    "list_one =[]\n",
    "feature_ranking = SelectKBest(chi2, k=5)\n",
    "fit = feature_ranking.fit(X, Y)\n",
    "\n",
    "fmt = '%-8s%-20s%s'\n",
    "\n",
    "for i, (score, feature) in enumerate(zip(feature_ranking.scores_, X.columns)):\n",
    "    list_one.append((score, feature))\n",
    "    \n",
    "dfObj = pd.DataFrame(list_one) \n",
    "dfObj.sort_values(by=[0], ascending = False)"
   ]
  },
  {
   "cell_type": "code",
   "execution_count": 8,
   "id": "65423959",
   "metadata": {
    "execution": {
     "iopub.execute_input": "2023-01-05T04:07:05.105803Z",
     "iopub.status.busy": "2023-01-05T04:07:05.105803Z",
     "iopub.status.idle": "2023-01-05T04:07:05.135885Z",
     "shell.execute_reply": "2023-01-05T04:07:05.135885Z"
    },
    "papermill": {
     "duration": 0.040181,
     "end_time": "2023-01-05T04:07:05.135885",
     "exception": false,
     "start_time": "2023-01-05T04:07:05.095704",
     "status": "completed"
    },
    "tags": []
   },
   "outputs": [],
   "source": [
    "X_rc.drop(['Aug','TrafficType','OperatingSystems','Other','Jul'],axis=1,inplace=True)"
   ]
  },
  {
   "cell_type": "markdown",
   "id": "5c840da3",
   "metadata": {
    "papermill": {
     "duration": 0.009972,
     "end_time": "2023-01-05T04:07:05.145857",
     "exception": false,
     "start_time": "2023-01-05T04:07:05.135885",
     "status": "completed"
    },
    "tags": []
   },
   "source": [
    "---"
   ]
  },
  {
   "cell_type": "code",
   "execution_count": 9,
   "id": "9cc10441",
   "metadata": {
    "execution": {
     "iopub.execute_input": "2023-01-05T04:07:05.156097Z",
     "iopub.status.busy": "2023-01-05T04:07:05.156097Z",
     "iopub.status.idle": "2023-01-05T04:07:05.334607Z",
     "shell.execute_reply": "2023-01-05T04:07:05.334607Z"
    },
    "papermill": {
     "duration": 0.190821,
     "end_time": "2023-01-05T04:07:05.336678",
     "exception": false,
     "start_time": "2023-01-05T04:07:05.145857",
     "status": "completed"
    },
    "tags": []
   },
   "outputs": [],
   "source": [
    "X_rc.join(Y).to_csv(product['data'], index=False)"
   ]
  }
 ],
 "metadata": {
  "jupytext": {
   "text_representation": {
    "extension": ".py",
    "format_name": "percent",
    "format_version": "1.3",
    "jupytext_version": "1.14.4"
   }
  },
  "kernelspec": {
   "display_name": "Python 3 (ipykernel)",
   "language": "python",
   "name": "python3"
  },
  "language_info": {
   "codemirror_mode": {
    "name": "ipython",
    "version": 3
   },
   "file_extension": ".py",
   "mimetype": "text/x-python",
   "name": "python",
   "nbconvert_exporter": "python",
   "pygments_lexer": "ipython3",
   "version": "3.7.15"
  },
  "papermill": {
   "duration": 4.635045,
   "end_time": "2023-01-05T04:07:05.690882",
   "exception": null,
   "input_path": "C:\\Users\\thihh\\AppData\\Local\\Temp\\tmp1j_bn5ve.ipynb",
   "output_path": "C:\\Users\\thihh\\MLpipeline\\demo\\products\\feature_eng_serve.ipynb",
   "parameters": {
    "product": {
     "data": "C:\\Users\\thihh\\MLpipeline\\demo\\products\\feature_eng_serve.csv",
     "nb": "C:\\Users\\thihh\\MLpipeline\\demo\\products\\feature_eng_serve.ipynb"
    },
    "upstream": {
     "clean": {
      "data": "C:\\Users\\thihh\\MLpipeline\\demo\\products\\clean_serve.csv",
      "nb": "C:\\Users\\thihh\\MLpipeline\\demo\\products\\clean_serve.ipynb"
     },
     "preprocess": {
      "data": "C:\\Users\\thihh\\MLpipeline\\demo\\products\\preprocess_serve.csv",
      "nb": "C:\\Users\\thihh\\MLpipeline\\demo\\products\\preprocess_serve.ipynb"
     }
    }
   },
   "start_time": "2023-01-05T04:07:01.055837"
  }
 },
 "nbformat": 4,
 "nbformat_minor": 5
}