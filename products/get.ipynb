{
 "cells": [
  {
   "cell_type": "code",
   "execution_count": 1,
   "id": "eb59864a",
   "metadata": {
    "execution": {
     "iopub.execute_input": "2023-01-05T04:05:44.845687Z",
     "iopub.status.busy": "2023-01-05T04:05:44.845687Z",
     "iopub.status.idle": "2023-01-05T04:05:44.875860Z",
     "shell.execute_reply": "2023-01-05T04:05:44.875860Z"
    },
    "lines_to_next_cell": 2,
    "papermill": {
     "duration": 0.041394,
     "end_time": "2023-01-05T04:05:44.875860",
     "exception": false,
     "start_time": "2023-01-05T04:05:44.834466",
     "status": "completed"
    },
    "tags": []
   },
   "outputs": [],
   "source": [
    "# Add description here\n",
    "#\n",
    "# *Note:* You can open this file as a notebook (JupyterLab: right-click on it in the side bar -> Open With -> Notebook)"
   ]
  },
  {
   "cell_type": "code",
   "execution_count": 2,
   "id": "2aa62a25",
   "metadata": {
    "execution": {
     "iopub.execute_input": "2023-01-05T04:05:44.896190Z",
     "iopub.status.busy": "2023-01-05T04:05:44.896190Z",
     "iopub.status.idle": "2023-01-05T04:05:44.915716Z",
     "shell.execute_reply": "2023-01-05T04:05:44.915716Z"
    },
    "papermill": {
     "duration": 0.029747,
     "end_time": "2023-01-05T04:05:44.915716",
     "exception": false,
     "start_time": "2023-01-05T04:05:44.885969",
     "status": "completed"
    },
    "tags": []
   },
   "outputs": [],
   "source": [
    "# Uncomment the next two lines to enable auto reloading for imported modules\n",
    "# %load_ext autoreload\n",
    "# %autoreload 2\n",
    "# For more info, see:\n",
    "# https://docs.ploomber.io/en/latest/user-guide/faq_index.html#auto-reloading-code-in-jupyter"
   ]
  },
  {
   "cell_type": "code",
   "execution_count": 3,
   "id": "362ff2c7",
   "metadata": {
    "execution": {
     "iopub.execute_input": "2023-01-05T04:05:44.926069Z",
     "iopub.status.busy": "2023-01-05T04:05:44.926069Z",
     "iopub.status.idle": "2023-01-05T04:05:44.950711Z",
     "shell.execute_reply": "2023-01-05T04:05:44.950711Z"
    },
    "lines_to_next_cell": 2,
    "papermill": {
     "duration": 0.034995,
     "end_time": "2023-01-05T04:05:44.950711",
     "exception": false,
     "start_time": "2023-01-05T04:05:44.915716",
     "status": "completed"
    },
    "tags": [
     "parameters"
    ]
   },
   "outputs": [],
   "source": [
    "# If this task has dependencies, list them them here\n",
    "# (e.g. upstream = ['some_task']), otherwise leave as None.\n",
    "upstream = None\n",
    "\n",
    "# This is a placeholder, leave it as None\n",
    "product = None"
   ]
  },
  {
   "cell_type": "code",
   "execution_count": 4,
   "id": "491d96db",
   "metadata": {
    "execution": {
     "iopub.execute_input": "2023-01-05T04:05:44.955747Z",
     "iopub.status.busy": "2023-01-05T04:05:44.955747Z",
     "iopub.status.idle": "2023-01-05T04:05:44.966133Z",
     "shell.execute_reply": "2023-01-05T04:05:44.966133Z"
    },
    "papermill": {
     "duration": 0.010386,
     "end_time": "2023-01-05T04:05:44.966133",
     "exception": false,
     "start_time": "2023-01-05T04:05:44.955747",
     "status": "completed"
    },
    "tags": [
     "injected-parameters"
    ]
   },
   "outputs": [],
   "source": [
    "# Parameters\n",
    "product = {\"nb\": \"C:\\\\Users\\\\thihh\\\\MLpipeline\\\\demo\\\\products\\\\get.ipynb\", \"data\": \"C:\\\\Users\\\\thihh\\\\MLpipeline\\\\demo\\\\products\\\\raw.csv\"}\n"
   ]
  },
  {
   "cell_type": "code",
   "execution_count": 5,
   "id": "050925ff",
   "metadata": {
    "execution": {
     "iopub.execute_input": "2023-01-05T04:05:44.975868Z",
     "iopub.status.busy": "2023-01-05T04:05:44.975868Z",
     "iopub.status.idle": "2023-01-05T04:05:45.006001Z",
     "shell.execute_reply": "2023-01-05T04:05:45.006001Z"
    },
    "papermill": {
     "duration": 0.039868,
     "end_time": "2023-01-05T04:05:45.006001",
     "exception": false,
     "start_time": "2023-01-05T04:05:44.966133",
     "status": "completed"
    },
    "tags": []
   },
   "outputs": [],
   "source": [
    "# This is the path to the dataset\n",
    "input_path = 'C:\\\\Users\\\\thihh\\\\MLpipeline\\\\demo\\\\ShoppingData.csv'"
   ]
  },
  {
   "cell_type": "code",
   "execution_count": 6,
   "id": "1b0607c0",
   "metadata": {
    "execution": {
     "iopub.execute_input": "2023-01-05T04:05:45.015961Z",
     "iopub.status.busy": "2023-01-05T04:05:45.015961Z",
     "iopub.status.idle": "2023-01-05T04:05:45.521113Z",
     "shell.execute_reply": "2023-01-05T04:05:45.521113Z"
    },
    "papermill": {
     "duration": 0.519723,
     "end_time": "2023-01-05T04:05:45.525724",
     "exception": false,
     "start_time": "2023-01-05T04:05:45.006001",
     "status": "completed"
    },
    "tags": []
   },
   "outputs": [],
   "source": [
    "import pandas as pd"
   ]
  },
  {
   "cell_type": "code",
   "execution_count": 7,
   "id": "7829a928",
   "metadata": {
    "execution": {
     "iopub.execute_input": "2023-01-05T04:05:45.535810Z",
     "iopub.status.busy": "2023-01-05T04:05:45.535810Z",
     "iopub.status.idle": "2023-01-05T04:05:45.585811Z",
     "shell.execute_reply": "2023-01-05T04:05:45.585811Z"
    },
    "papermill": {
     "duration": 0.060087,
     "end_time": "2023-01-05T04:05:45.585811",
     "exception": false,
     "start_time": "2023-01-05T04:05:45.525724",
     "status": "completed"
    },
    "tags": []
   },
   "outputs": [
    {
     "data": {
      "text/html": [
       "<div>\n",
       "<style scoped>\n",
       "    .dataframe tbody tr th:only-of-type {\n",
       "        vertical-align: middle;\n",
       "    }\n",
       "\n",
       "    .dataframe tbody tr th {\n",
       "        vertical-align: top;\n",
       "    }\n",
       "\n",
       "    .dataframe thead th {\n",
       "        text-align: right;\n",
       "    }\n",
       "</style>\n",
       "<table border=\"1\" class=\"dataframe\">\n",
       "  <thead>\n",
       "    <tr style=\"text-align: right;\">\n",
       "      <th></th>\n",
       "      <th>Administrative</th>\n",
       "      <th>Administrative_Duration</th>\n",
       "      <th>Informational</th>\n",
       "      <th>Informational_Duration</th>\n",
       "      <th>ProductRelated</th>\n",
       "      <th>ProductRelated_Duration</th>\n",
       "      <th>BounceRates</th>\n",
       "      <th>ExitRates</th>\n",
       "      <th>PageValues</th>\n",
       "      <th>SpecialDay</th>\n",
       "      <th>Month</th>\n",
       "      <th>OperatingSystems</th>\n",
       "      <th>Browser</th>\n",
       "      <th>Region</th>\n",
       "      <th>TrafficType</th>\n",
       "      <th>VisitorType</th>\n",
       "      <th>Weekend</th>\n",
       "      <th>Revenue</th>\n",
       "    </tr>\n",
       "  </thead>\n",
       "  <tbody>\n",
       "    <tr>\n",
       "      <th>0</th>\n",
       "      <td>0</td>\n",
       "      <td>0.0</td>\n",
       "      <td>0</td>\n",
       "      <td>0.0</td>\n",
       "      <td>1</td>\n",
       "      <td>0.000000</td>\n",
       "      <td>0.20</td>\n",
       "      <td>0.20</td>\n",
       "      <td>0.0</td>\n",
       "      <td>0.0</td>\n",
       "      <td>Feb</td>\n",
       "      <td>1</td>\n",
       "      <td>1</td>\n",
       "      <td>1</td>\n",
       "      <td>1</td>\n",
       "      <td>Returning_Visitor</td>\n",
       "      <td>False</td>\n",
       "      <td>False</td>\n",
       "    </tr>\n",
       "    <tr>\n",
       "      <th>1</th>\n",
       "      <td>0</td>\n",
       "      <td>0.0</td>\n",
       "      <td>0</td>\n",
       "      <td>0.0</td>\n",
       "      <td>2</td>\n",
       "      <td>64.000000</td>\n",
       "      <td>0.00</td>\n",
       "      <td>0.10</td>\n",
       "      <td>0.0</td>\n",
       "      <td>0.0</td>\n",
       "      <td>Feb</td>\n",
       "      <td>2</td>\n",
       "      <td>2</td>\n",
       "      <td>1</td>\n",
       "      <td>2</td>\n",
       "      <td>Returning_Visitor</td>\n",
       "      <td>False</td>\n",
       "      <td>False</td>\n",
       "    </tr>\n",
       "    <tr>\n",
       "      <th>2</th>\n",
       "      <td>0</td>\n",
       "      <td>0.0</td>\n",
       "      <td>0</td>\n",
       "      <td>0.0</td>\n",
       "      <td>1</td>\n",
       "      <td>0.000000</td>\n",
       "      <td>0.20</td>\n",
       "      <td>0.20</td>\n",
       "      <td>0.0</td>\n",
       "      <td>0.0</td>\n",
       "      <td>Feb</td>\n",
       "      <td>4</td>\n",
       "      <td>1</td>\n",
       "      <td>9</td>\n",
       "      <td>3</td>\n",
       "      <td>Returning_Visitor</td>\n",
       "      <td>False</td>\n",
       "      <td>False</td>\n",
       "    </tr>\n",
       "    <tr>\n",
       "      <th>3</th>\n",
       "      <td>0</td>\n",
       "      <td>0.0</td>\n",
       "      <td>0</td>\n",
       "      <td>0.0</td>\n",
       "      <td>2</td>\n",
       "      <td>2.666667</td>\n",
       "      <td>0.05</td>\n",
       "      <td>0.14</td>\n",
       "      <td>0.0</td>\n",
       "      <td>0.0</td>\n",
       "      <td>Feb</td>\n",
       "      <td>3</td>\n",
       "      <td>2</td>\n",
       "      <td>2</td>\n",
       "      <td>4</td>\n",
       "      <td>Returning_Visitor</td>\n",
       "      <td>False</td>\n",
       "      <td>False</td>\n",
       "    </tr>\n",
       "    <tr>\n",
       "      <th>4</th>\n",
       "      <td>0</td>\n",
       "      <td>0.0</td>\n",
       "      <td>0</td>\n",
       "      <td>0.0</td>\n",
       "      <td>10</td>\n",
       "      <td>627.500000</td>\n",
       "      <td>0.02</td>\n",
       "      <td>0.05</td>\n",
       "      <td>0.0</td>\n",
       "      <td>0.0</td>\n",
       "      <td>Feb</td>\n",
       "      <td>3</td>\n",
       "      <td>3</td>\n",
       "      <td>1</td>\n",
       "      <td>4</td>\n",
       "      <td>Returning_Visitor</td>\n",
       "      <td>True</td>\n",
       "      <td>False</td>\n",
       "    </tr>\n",
       "  </tbody>\n",
       "</table>\n",
       "</div>"
      ],
      "text/plain": [
       "   Administrative  Administrative_Duration  Informational  \\\n",
       "0               0                      0.0              0   \n",
       "1               0                      0.0              0   \n",
       "2               0                      0.0              0   \n",
       "3               0                      0.0              0   \n",
       "4               0                      0.0              0   \n",
       "\n",
       "   Informational_Duration  ProductRelated  ProductRelated_Duration  \\\n",
       "0                     0.0               1                 0.000000   \n",
       "1                     0.0               2                64.000000   \n",
       "2                     0.0               1                 0.000000   \n",
       "3                     0.0               2                 2.666667   \n",
       "4                     0.0              10               627.500000   \n",
       "\n",
       "   BounceRates  ExitRates  PageValues  SpecialDay Month  OperatingSystems  \\\n",
       "0         0.20       0.20         0.0         0.0   Feb                 1   \n",
       "1         0.00       0.10         0.0         0.0   Feb                 2   \n",
       "2         0.20       0.20         0.0         0.0   Feb                 4   \n",
       "3         0.05       0.14         0.0         0.0   Feb                 3   \n",
       "4         0.02       0.05         0.0         0.0   Feb                 3   \n",
       "\n",
       "   Browser  Region  TrafficType        VisitorType  Weekend  Revenue  \n",
       "0        1       1            1  Returning_Visitor    False    False  \n",
       "1        2       1            2  Returning_Visitor    False    False  \n",
       "2        1       9            3  Returning_Visitor    False    False  \n",
       "3        2       2            4  Returning_Visitor    False    False  \n",
       "4        3       1            4  Returning_Visitor     True    False  "
      ]
     },
     "execution_count": 7,
     "metadata": {},
     "output_type": "execute_result"
    }
   ],
   "source": [
    "# Reading shopping data\n",
    "X_train = pd.read_csv(input_path)\n",
    "df = X_train.copy()\n",
    "df.head()"
   ]
  },
  {
   "cell_type": "code",
   "execution_count": 8,
   "id": "ba95ce10",
   "metadata": {
    "execution": {
     "iopub.execute_input": "2023-01-05T04:05:45.596014Z",
     "iopub.status.busy": "2023-01-05T04:05:45.596014Z",
     "iopub.status.idle": "2023-01-05T04:05:45.686280Z",
     "shell.execute_reply": "2023-01-05T04:05:45.686280Z"
    },
    "papermill": {
     "duration": 0.100469,
     "end_time": "2023-01-05T04:05:45.686280",
     "exception": false,
     "start_time": "2023-01-05T04:05:45.585811",
     "status": "completed"
    },
    "tags": []
   },
   "outputs": [],
   "source": [
    "df.to_csv(product['data'], index=False)"
   ]
  }
 ],
 "metadata": {
  "jupytext": {
   "text_representation": {
    "extension": ".py",
    "format_name": "percent",
    "format_version": "1.3",
    "jupytext_version": "1.14.4"
   }
  },
  "kernelspec": {
   "display_name": "Python 3 (ipykernel)",
   "language": "python",
   "name": "python3"
  },
  "language_info": {
   "codemirror_mode": {
    "name": "ipython",
    "version": 3
   },
   "file_extension": ".py",
   "mimetype": "text/x-python",
   "name": "python",
   "nbconvert_exporter": "python",
   "pygments_lexer": "ipython3",
   "version": "3.7.15"
  },
  "papermill": {
   "duration": 2.950125,
   "end_time": "2023-01-05T04:05:45.945839",
   "exception": null,
   "input_path": "C:\\Users\\thihh\\AppData\\Local\\Temp\\tmpy4m92hsa.ipynb",
   "output_path": "C:\\Users\\thihh\\MLpipeline\\demo\\products\\get.ipynb",
   "parameters": {
    "product": {
     "data": "C:\\Users\\thihh\\MLpipeline\\demo\\products\\raw.csv",
     "nb": "C:\\Users\\thihh\\MLpipeline\\demo\\products\\get.ipynb"
    }
   },
   "start_time": "2023-01-05T04:05:42.995714"
  }
 },
 "nbformat": 4,
 "nbformat_minor": 5
}